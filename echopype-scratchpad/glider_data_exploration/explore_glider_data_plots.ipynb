{
 "cells": [
  {
   "cell_type": "markdown",
   "id": "a8382f15",
   "metadata": {},
   "source": [
    "# Exploring Glider Data with Jupyter Notebook and IOOS Map"
   ]
  },
  {
   "cell_type": "markdown",
   "id": "26b24a12",
   "metadata": {},
   "source": [
    "**Useful links**\n",
    "- [IOOS](https://gliders.ioos.us/)\n",
    "- [IOOS map](https://gliders.ioos.us/map/)\n",
    "- [ERDDAP OOI Demo](https://www.youtube.com/watch?v=tj4M9hodTG0)\n",
    "- [reproducible-notebooks - ERDDAP_glider_search](https://github.com/reproducible-notebooks/ERDDAP_glider_search)"
   ]
  },
  {
   "cell_type": "markdown",
   "id": "cc230364",
   "metadata": {},
   "source": [
    "## Read glider data from ERDDAP"
   ]
  },
  {
   "cell_type": "code",
   "execution_count": null,
   "id": "3c0b54bd",
   "metadata": {},
   "outputs": [],
   "source": [
    "from erddapy import ERDDAP\n",
    "import pandas as pd\n",
    "\n",
    "def get_erddap_dataset(ds_id, server, variables=None, constraints=None, filetype=None):\n",
    "    #  Available at: \n",
    "    #      https://github.com/JGradone/Slocum-AD2CP/blob/main/src/analysis/analysis.py\n",
    "    \"\"\"\n",
    "    Fetch a dataset from an ERDDAP server.\n",
    "    Parameters:\n",
    "        - ds_id: dataset ID e.g. ng314-20200806T2040\n",
    "        - variables: optional list of variables\n",
    "        - constraints: optional list of constraints\n",
    "        - filetype: optional filetype to return, 'nc' (default) or 'dataframe'\n",
    "    Returns:\n",
    "        - xarray.Dataset: If filetype is 'nc', returns an xarray Dataset object.\n",
    "        - pandas.DataFrame: If filetype is 'dataframe', returns a pandas DataFrame.\n",
    "          If the dataset cannot be converted to xarray, it also returns a DataFrame.\n",
    "    \"\"\"\n",
    "    variables = variables or None\n",
    "    constraints = constraints or None\n",
    "    filetype = filetype or 'nc'\n",
    "\n",
    "\n",
    "    e = ERDDAP(server,\n",
    "               protocol='tabledap',\n",
    "               response='nc')\n",
    "    e.dataset_id = ds_id\n",
    "    if constraints:\n",
    "        e.constraints = constraints\n",
    "    if variables:\n",
    "        e.variables = variables\n",
    "    if filetype == 'nc':\n",
    "        try:\n",
    "            ds = e.to_xarray()\n",
    "            ds = ds.sortby(ds.time)\n",
    "        except OSError:\n",
    "            print('No dataset available for specified constraints: {}'.format(ds_id))\n",
    "            ds = []\n",
    "        except TypeError:\n",
    "            print('Cannot convert to xarray, providing dataframe: {}'.format(ds_id))\n",
    "            ds = e.to_pandas().dropna()\n",
    "    elif filetype == 'dataframe':\n",
    "        ds = e.to_pandas().dropna(how='all')\n",
    "    else:\n",
    "        print('Unrecognized filetype: {}. Needs to  be \"nc\" or \"dataframe\"'.format(filetype))\n",
    "\n",
    "    return ds"
   ]
  },
  {
   "cell_type": "markdown",
   "id": "71dec11f",
   "metadata": {},
   "source": [
    "**Load glider data directly from ERDDAP as xarray**"
   ]
  },
  {
   "cell_type": "markdown",
   "id": "da27e259",
   "metadata": {},
   "source": [
    "The test dataset can be found at the following link:\n",
    "- [test data](https://gliders.ioos.us/erddap/search/index.html?page=1&itemsPerPage=1000&searchFor=ng296-20230726T172700)\n",
    "\n",
    "After applying time constraints on the test dataset, some plots can be found at the following links:\n",
    "- [temperature](https://gliders.ioos.us/erddap/tabledap/ng296-20230726T172700.graph?time%2Cdepth%2Ctemperature&time%3E=2023-12-13T00%3A00%3A00Z&time%3C=2023-12-15T00%3A00%3A00Z&.draw=markers&.marker=5%7C5&.color=0xFFFFFF&.colorBar=%7C%7C%7C%7C%7C&.bgColor=0xffccccff)\n",
    "- [location](https://gliders.ioos.us/erddap/tabledap/ng296-20230726T172700.graph?latitude%2Clongitude%2Cprofile_id&time%3E=2023-12-13T00%3A00%3A00Z&time%3C=2023-12-15T00%3A00%3A00Z&.draw=markers&.marker=5%7C5&.color=0xFFFFFF&.colorBar=%7C%7C%7C%7C%7C&.bgColor=0xffccccff)"
   ]
  },
  {
   "cell_type": "code",
   "execution_count": null,
   "id": "001a5e83",
   "metadata": {},
   "outputs": [],
   "source": [
    "## Load data\n",
    "\n",
    "ds_id = 'ng296-20230726T172700'\n",
    "min_time = '2023-12-13T00:00:00Z'\n",
    "max_time = '2023-12-15T00:00:00Z'\n",
    "constraints = {\n",
    "    'time>=': min_time,\n",
    "    'time<=': max_time,\n",
    "}\n",
    "variables = ['depth', 'latitude', 'longitude', 'time', 'temperature']\n",
    "gdf = get_erddap_dataset(\n",
    "    ds_id, server='https://gliders.ioos.us/erddap', \n",
    "    variables = variables, \n",
    "    constraints=constraints, \n",
    "    filetype='nc')\n",
    "gdf"
   ]
  },
  {
   "cell_type": "markdown",
   "id": "c06b6b5d",
   "metadata": {},
   "source": [
    "**Different results in data visualization:**\n",
    "\n",
    "Scenario 1: Utilizing the get_erddap_dataset function with filetype='nc' results in an xarray.Dataset. Converting this dataset to a Pandas DataFrame and creating a plot (for instance, time versus depth with temperature as color) reveals that the plot differs from [the predefined reference plot](https://gliders.ioos.us/erddap/tabledap/ng296-20230726T172700.graph?time%2Cdepth%2Ctemperature&time%3E=2023-12-13T00%3A00%3A00Z&time%3C=2023-12-15T00%3A00%3A00Z&.draw=markers&.marker=5%7C5&.color=0xFFFFFF&.colorBar=%7C%7C%7C%7C%7C&.bgColor=0xffccccff).\n",
    "\n",
    "Scenario 2: Alternatively, data can be downloaded locally from the ERDDAP server as a netCDF file followed by reading it into Python using xr.open_dataset(file_path, engine='netcdf4', decode_times=False) and then converting this dataset to a Pandas DataFrame, yields a plot that aligns with [the expected reference](https://gliders.ioos.us/erddap/tabledap/ng296-20230726T172700.graph?time%2Cdepth%2Ctemperature&time%3E=2023-12-13T00%3A00%3A00Z&time%3C=2023-12-15T00%3A00%3A00Z&.draw=markers&.marker=5%7C5&.color=0xFFFFFF&.colorBar=%7C%7C%7C%7C%7C&.bgColor=0xffccccff)."
   ]
  },
  {
   "cell_type": "code",
   "execution_count": null,
   "id": "b4efca4f",
   "metadata": {},
   "outputs": [],
   "source": [
    "# Scenario 1:\n",
    "\n",
    "import hvplot.pandas\n",
    "\n",
    "gdf = gdf.to_dataframe().reset_index()\n",
    "gdf['time'] = pd.to_datetime(gdf['time'], unit='s')\n",
    "gdf.hvplot.scatter(\n",
    "    x='time', \n",
    "    y='depth', \n",
    "    c='temperature', \n",
    "    cmap='viridis', \n",
    "    size=8, \n",
    "    height=500, \n",
    "    width=700\n",
    ").opts(\n",
    "    invert_yaxis=True,\n",
    "    colorbar=True,\n",
    "    colorbar_opts={'title': 'Temperature (°C)'}\n",
    ")\n"
   ]
  },
  {
   "cell_type": "code",
   "execution_count": null,
   "id": "f931ec82",
   "metadata": {
    "scrolled": false
   },
   "outputs": [],
   "source": [
    "import plotly.graph_objects as go\n",
    "\n",
    "optimized_lon_lat = gdf[['longitude', 'latitude']].drop_duplicates()\n",
    "\n",
    "fig = go.Figure(data=go.Scattergeo(\n",
    "    lon = optimized_lon_lat['longitude'],\n",
    "    lat = optimized_lon_lat['latitude'],\n",
    "    mode = 'lines+markers',\n",
    "    line = dict(width = 2, color = 'blue'),\n",
    "    marker = dict(size = 3, color = 'red', opacity = 0.7) \n",
    "))\n",
    "\n",
    "\n",
    "fig.update_layout(\n",
    "    title_text = 'Glider Path with Map Background',\n",
    "    showlegend = False,\n",
    "    geo = dict(\n",
    "        scope = 'world',\n",
    "        projection_type = 'equirectangular',\n",
    "        showland = True,\n",
    "        landcolor = 'rgb(243, 243, 243)',\n",
    "        countrycolor = 'rgb(204, 204, 204)',\n",
    "        resolution = 50,\n",
    "        center = dict(lon = optimized_lon_lat['longitude'].mean(), lat = optimized_lon_lat['latitude'].mean()),\n",
    "        projection_scale = 5 \n",
    "    ),\n",
    ")\n",
    "\n",
    "fig.show()"
   ]
  },
  {
   "cell_type": "code",
   "execution_count": null,
   "id": "327e5898",
   "metadata": {},
   "outputs": [],
   "source": [
    "import plotly.express as px\n",
    "\n",
    "\n",
    "fig = px.scatter(gdf, x='longitude', y='latitude')\n",
    "\n",
    "\n",
    "fig.update_layout(\n",
    "    title='Scatter Plot for ng296-20230726T172700',\n",
    "    xaxis_title='Longitude [degrees_east]',\n",
    "    yaxis_title='Latitude [degrees_north]',\n",
    "    yaxis = dict(\n",
    "        scaleanchor = \"x\",\n",
    "        scaleratio = 1,\n",
    "      ),\n",
    ")\n",
    "\n",
    "# Show the plot\n",
    "fig.show()"
   ]
  },
  {
   "cell_type": "markdown",
   "id": "5db85d31",
   "metadata": {},
   "source": [
    "**Load glider data using a downloaded netCDF file from ERDDAP**"
   ]
  },
  {
   "cell_type": "code",
   "execution_count": null,
   "id": "179979f9",
   "metadata": {},
   "outputs": [],
   "source": [
    "# Scenario 2:\n",
    "\n",
    "import os\n",
    "import hvplot.pandas\n",
    "import xarray as xr\n",
    "\n",
    "\n",
    "current_directory = os.getcwd()\n",
    "file_path = os.path.join(current_directory,\n",
    "                         'assets',\n",
    "                         'glider_data',\n",
    "                         'ng296-20230726T172700_8afc_ce38_9a62.nc')\n",
    "\n",
    "ds = xr.open_dataset(file_path, engine='netcdf4', decode_times=False)\n",
    "\n",
    "ds = ds.to_dataframe().reset_index()\n",
    "\n",
    "ds['time'] = pd.to_datetime(ds['time'], unit='s')\n",
    "\n",
    "ds.hvplot.scatter(\n",
    "    x='time', \n",
    "    y='depth', \n",
    "    c='temperature', \n",
    "    cmap='viridis', \n",
    "    size=8, \n",
    "    height=500, \n",
    "    width=700\n",
    ").opts(\n",
    "    invert_yaxis=True,\n",
    "    colorbar=True,\n",
    "    colorbar_opts={'title': 'Temperature (°C)'}\n",
    ")"
   ]
  },
  {
   "cell_type": "code",
   "execution_count": null,
   "id": "87c9d226",
   "metadata": {},
   "outputs": [],
   "source": [
    "import plotly.graph_objects as go\n",
    "\n",
    "optimized_lon_lat = gdf[['longitude', 'latitude']].drop_duplicates()\n",
    "\n",
    "fig = go.Figure(data=go.Scattergeo(\n",
    "    lon = optimized_lon_lat['longitude'],\n",
    "    lat = optimized_lon_lat['latitude'],\n",
    "    mode = 'lines+markers',\n",
    "    line = dict(width = 2, color = 'blue'),\n",
    "    marker = dict(size = 3, color = 'red', opacity = 0.7) \n",
    "))\n",
    "\n",
    "\n",
    "fig.update_layout(\n",
    "    title_text = 'Glider Path with Map Background',\n",
    "    showlegend = False,\n",
    "    geo = dict(\n",
    "        scope = 'world',\n",
    "        projection_type = 'equirectangular',\n",
    "        showland = True,\n",
    "        landcolor = 'rgb(243, 243, 243)',\n",
    "        countrycolor = 'rgb(204, 204, 204)',\n",
    "        resolution = 50,\n",
    "        center = dict(lon = optimized_lon_lat['longitude'].mean(), lat = optimized_lon_lat['latitude'].mean()),\n",
    "        projection_scale = 5 \n",
    "    ),\n",
    ")\n",
    "\n",
    "fig.show()"
   ]
  },
  {
   "cell_type": "code",
   "execution_count": null,
   "id": "7b9e4fcf",
   "metadata": {},
   "outputs": [],
   "source": [
    "import plotly.express as px\n",
    "\n",
    "\n",
    "fig = px.scatter(gdf, x='longitude', y='latitude')\n",
    "\n",
    "\n",
    "fig.update_layout(\n",
    "    title='Scatter Plot for ng296-20230726T172700',\n",
    "    xaxis_title='Longitude [degrees_east]',\n",
    "    yaxis_title='Latitude [degrees_north]',\n",
    "    yaxis = dict(\n",
    "        scaleanchor = \"x\",\n",
    "        scaleratio = 1,\n",
    "      ),\n",
    ")\n",
    "\n",
    "# Show the plot\n",
    "fig.show()"
   ]
  },
  {
   "cell_type": "markdown",
   "id": "2bd06427",
   "metadata": {},
   "source": [
    "**Load glider data directly from ERDDAP as Pandas DataFrame**"
   ]
  },
  {
   "cell_type": "markdown",
   "id": "4461b0d5",
   "metadata": {},
   "source": [
    "The test dataset can be found at the following link:\n",
    "- [test data](https://gliders.ioos.us/erddap/search/index.html?page=1&itemsPerPage=1000&searchFor=ng296-20230726T172700)\n",
    "\n",
    "After applying time constraints on the test dataset, some plots can be found at the following links:\n",
    "- [temperature](https://gliders.ioos.us/erddap/tabledap/ng296-20230726T172700.graph?time%2Cdepth%2Ctemperature&time%3E=2023-12-13T00%3A00%3A00Z&time%3C=2023-12-15T00%3A00%3A00Z&.draw=markers&.marker=5%7C5&.color=0xFFFFFF&.colorBar=%7C%7C%7C%7C%7C&.bgColor=0xffccccff)\n",
    "- [location](https://gliders.ioos.us/erddap/tabledap/ng296-20230726T172700.graph?latitude%2Clongitude%2Cprofile_id&time%3E=2023-12-13T00%3A00%3A00Z&time%3C=2023-12-15T00%3A00%3A00Z&.draw=markers&.marker=5%7C5&.color=0xFFFFFF&.colorBar=%7C%7C%7C%7C%7C&.bgColor=0xffccccff)"
   ]
  },
  {
   "cell_type": "code",
   "execution_count": null,
   "id": "d42e64ca",
   "metadata": {
    "scrolled": false
   },
   "outputs": [],
   "source": [
    "## Load data\n",
    "# The dataset can be found at the following link:\n",
    "    # https://gliders.ioos.us/erddap/search/index.html?page=1&itemsPerPage=1000&searchFor=ng296-20230726T172700\n",
    "ds_id = 'ng296-20230726T172700'\n",
    "min_time = '2023-12-13T00:00:00Z'\n",
    "max_time = '2023-12-15T00:00:00Z'\n",
    "constraints = {\n",
    "    'time>=': min_time,\n",
    "    'time<=': max_time,\n",
    "}\n",
    "variables = ['depth', 'latitude', 'longitude', 'time', 'temperature']\n",
    "gdf = get_erddap_dataset(\n",
    "    ds_id, server='https://gliders.ioos.us/erddap', \n",
    "    variables = variables, \n",
    "    constraints=constraints, \n",
    "    filetype='dataframe')\n",
    "gdf"
   ]
  },
  {
   "cell_type": "code",
   "execution_count": null,
   "id": "8e18abd3",
   "metadata": {},
   "outputs": [],
   "source": [
    "gdf.columns = variables\n",
    "# Convert 'time (UTC)' to datetime and set as index\n",
    "gdf['time'] = pd.to_datetime(gdf['time'])\n",
    "gdf = gdf.set_index('time')"
   ]
  },
  {
   "cell_type": "code",
   "execution_count": null,
   "id": "fed2aeea",
   "metadata": {},
   "outputs": [],
   "source": [
    "gdf"
   ]
  },
  {
   "cell_type": "code",
   "execution_count": null,
   "id": "552ea9f5",
   "metadata": {},
   "outputs": [],
   "source": [
    "number_of_unique_timestamps = gdf.index.nunique()\n",
    "\n",
    "print(f'There are {number_of_unique_timestamps} unique timestamps in the DataFrame.')"
   ]
  },
  {
   "cell_type": "markdown",
   "id": "25229b7c",
   "metadata": {},
   "source": [
    "**In oceanographic data collection, high-resolution sensors on gliders often record multiple variables at the same timestamp, a challenge for formats like netCDF which typically map single observations to discrete time points, particularly in its default format used in ERDDAP. Pandas DataFrames adeptly handle this by allowing duplicate timestamps, supporting irregular time series, and providing multi-level indexing. This ensures that detailed sensor readings are accurately maintained and aligned for analysis, showcasing Pandas' capability to manage complex environmental datasets.**\n",
    "\n",
    "- In the context of the example dataset from ERDDAP, read into both Pandas and netCDF formats, Pandas DataFrames uniquely manage temporal data by retaining all timestamps, including duplicates. When assessing unique time values in this dataset, Pandas identifies 35 distinct timestamps, mirroring the netCDF format's categorization under xarray, which segregates 35 unique profile points against 15601 observations. This disparity arises as Pandas directly maps each observation to its respective timestamp, regardless of duplicates, offering a straightforward approach for detailed time-series analysis. In contrast, netCDF/xarray's separation of time (profile) and observations (obs) into distinct dimensions introduces complexities in precisely aligning each data point with its corresponding time instance, particularly in datasets with high-frequency measurements recorded at single time points."
   ]
  },
  {
   "cell_type": "code",
   "execution_count": null,
   "id": "953bbcb1",
   "metadata": {},
   "outputs": [],
   "source": [
    "import plotly.graph_objs as go\n",
    "\n",
    "optimized_lon_lat = gdf[['longitude', 'latitude']].drop_duplicates()\n",
    "\n",
    "fig = go.Figure(data=go.Scattergeo(\n",
    "    lon = optimized_lon_lat['longitude'],\n",
    "    lat = optimized_lon_lat['latitude'],\n",
    "    mode = 'lines+markers',\n",
    "    line = dict(width = 2, color = 'blue'),\n",
    "    marker = dict(size = 3, color = 'red', opacity = 0.7) \n",
    "))\n",
    "\n",
    "\n",
    "fig.update_layout(\n",
    "    title_text = 'Glider Path with Map Background',\n",
    "    showlegend = False,\n",
    "    geo = dict(\n",
    "        scope = 'world',\n",
    "        projection_type = 'equirectangular',\n",
    "        showland = True,\n",
    "        landcolor = 'rgb(243, 243, 243)',\n",
    "        countrycolor = 'rgb(204, 204, 204)',\n",
    "        resolution = 50,\n",
    "        center = dict(lon = optimized_lon_lat['longitude'].mean(), lat = optimized_lon_lat['latitude'].mean()),\n",
    "        projection_scale = 5 \n",
    "    ),\n",
    ")\n",
    "\n",
    "fig.show()\n"
   ]
  },
  {
   "cell_type": "code",
   "execution_count": null,
   "id": "2836f83d",
   "metadata": {},
   "outputs": [],
   "source": [
    "import plotly.express as px\n",
    "\n",
    "\n",
    "fig = px.scatter(gdf, x='longitude', y='latitude')\n",
    "\n",
    "\n",
    "fig.update_layout(\n",
    "    title='Scatter Plot for ng296-20230726T172700',\n",
    "    xaxis_title='Longitude [degrees_east]',\n",
    "    yaxis_title='Latitude [degrees_north]',\n",
    "    yaxis = dict(\n",
    "        scaleanchor = \"x\",\n",
    "        scaleratio = 1,\n",
    "      ),\n",
    ")\n",
    "\n",
    "# Show the plot\n",
    "fig.show()"
   ]
  },
  {
   "cell_type": "code",
   "execution_count": null,
   "id": "19200bad",
   "metadata": {},
   "outputs": [],
   "source": [
    "import hvplot.pandas\n",
    "\n",
    "gdf.hvplot.scatter(\n",
    "    x='time', \n",
    "    y='depth', \n",
    "    c='temperature', \n",
    "    cmap='viridis', \n",
    "    size=8, \n",
    "    height=500, \n",
    "    width=700\n",
    ").opts(\n",
    "    invert_yaxis=True,\n",
    "    colorbar=True,\n",
    "    colorbar_opts={'title': 'Temperature (°C)'}\n",
    ")"
   ]
  },
  {
   "cell_type": "markdown",
   "id": "4f995160",
   "metadata": {},
   "source": [
    "## Read glider data downloaded from THREDDS as an ‘nc’ file"
   ]
  },
  {
   "cell_type": "markdown",
   "id": "d37a8198",
   "metadata": {},
   "source": [
    "- The test data can be found at the following [link](https://gliders.ioos.us/thredds/catalog/deployments/mbari/UW646-20220907T0000/catalog.html?dataset=deployments/mbari/UW646-20220907T0000/UW646-20220907T0000.nc3.nc)"
   ]
  },
  {
   "cell_type": "code",
   "execution_count": null,
   "id": "8688bfce",
   "metadata": {},
   "outputs": [],
   "source": [
    "import os\n",
    "import xarray as xr\n",
    "\n",
    "\n",
    "current_directory = os.getcwd()\n",
    "file_path = os.path.join(current_directory, 'assets', 'glider_data', 'UW646-20220907T0000.nc3.nc')\n",
    "\n",
    "# Open the NetCDF file\n",
    "dataset = xr.open_dataset(file_path)\n",
    "\n",
    "# Explore the dataset\n",
    "dataset\n"
   ]
  },
  {
   "cell_type": "code",
   "execution_count": null,
   "id": "08c65eff",
   "metadata": {
    "scrolled": false
   },
   "outputs": [],
   "source": [
    "import hvplot.pandas\n",
    "\n",
    "# Open the NetCDF file - using engine='netcdf4', decode_times=False\n",
    "ds = xr.open_dataset(file_path, engine='netcdf4', decode_times=False)\n",
    "\n",
    "ds = ds.to_dataframe().reset_index()\n",
    "\n",
    "ds['time'] = pd.to_datetime(ds['time'], unit='s')\n",
    "\n",
    "ds.hvplot.scatter(\n",
    "    x='time', \n",
    "    y='depth', \n",
    "    c='temperature', \n",
    "    cmap='plasma', \n",
    "    size=8, \n",
    "    height=500, \n",
    "    width=700\n",
    ").opts(\n",
    "    invert_yaxis=True,\n",
    "    colorbar=True,\n",
    "    colorbar_opts={'title': 'Temperature (°C)'}\n",
    ")"
   ]
  },
  {
   "cell_type": "markdown",
   "id": "fecfaac8",
   "metadata": {},
   "source": [
    "## Read glider data  downloaded from ERDDAP as CSV file"
   ]
  },
  {
   "cell_type": "markdown",
   "id": "6db3be36",
   "metadata": {},
   "source": [
    "**First, we conduct some tests using the ERDDAP server directly for this dataset:** [HERE](https://gliders.ioos.us/erddap/tabledap/sg625-20230919T0000.html)"
   ]
  },
  {
   "cell_type": "markdown",
   "id": "eb6d07f2",
   "metadata": {},
   "source": [
    "- Data with time constraints"
   ]
  },
  {
   "cell_type": "code",
   "execution_count": null,
   "id": "7eba867c",
   "metadata": {},
   "outputs": [],
   "source": [
    "variables = [\n",
    "    'depth',\n",
    "    'latitude',\n",
    "    'longitude',\n",
    "    'salinity',\n",
    "    'temperature',\n",
    "    'density',\n",
    "    'conductivity',\n",
    "    'time',\n",
    "]\n",
    "\n",
    "ds_id = 'sg625-20230919T0000'\n",
    "\n",
    "server = 'https://gliders.ioos.us/erddap'\n",
    "\n",
    "min_time = '2023-11-28T00:00:00Z'\n",
    "max_time = '2023-12-05T14:34:20Z'\n",
    "constraints = {\n",
    "    'time>=': min_time,\n",
    "    'time<=': max_time,\n",
    "}\n",
    "\n",
    "\n",
    "gdf = get_erddap_dataset(ds_id, server=server, variables=variables, constraints=constraints, filetype='dataframe')\n",
    "\n",
    "gdf.columns = variables\n",
    "\n",
    "\n",
    "gdf\n"
   ]
  },
  {
   "cell_type": "code",
   "execution_count": null,
   "id": "889a004f",
   "metadata": {},
   "outputs": [],
   "source": [
    "print(gdf.dtypes)"
   ]
  },
  {
   "cell_type": "markdown",
   "id": "af9a1e25",
   "metadata": {},
   "source": [
    "When visualizing oceanographic data collected over time, such as from gliders or buoys, it is common to encounter duplicate timestamps in the dataset, as with our example DataFrame. These duplications can occur due to various reasons, like multiple sensors recording different parameters at the same time.\n",
    "In the provided `plot_depth_profile` function, the handling of potential duplicates is approached systematically:\n",
    "\n",
    "1. **DataFrame Copy**: The function begins by creating a copy of the input DataFrame. This ensures that any modifications done during the plotting process do not alter the original data.\n",
    "\n",
    "2. **Datetime Conversion**: The `time` column is converted to datetime objects using `pd.to_datetime`. This standardizes the time information, ensuring that all time-related operations are performed accurately.\n",
    "\n",
    "3. **Indexing by Time**: By setting the `time` column as the index of the DataFrame, we facilitate time-based indexing and plotting. This is important for time series analysis and visualization.\n",
    "\n",
    "4. **Data Cleaning**: Before plotting, rows with NaN values in either the variable of interest or the 'depth' column are removed using `df_cleaned = df_copy.dropna(subset=[variable, 'depth'])`. This step ensures that only valid data points are included in the plot.\n",
    "\n",
    "5. **Scatter Plot**: A scatter plot is created where each point represents a measurement. When there are multiple measurements for the same timestamp (i.e., duplicates), they are all plotted. This could mean that for any given time, there could be several depth readings, each associated with a value for the specified variable. The color of each point reflects the magnitude of the variable.\n",
    "\n",
    "6. **Color Coding**: The variable of interest is represented by the color of the points in the scatter plot, with the color intensity corresponding to the variable's value. This provides a visual representation of changes in the variable with respect to both depth and time.\n",
    "\n",
    "7. **Axis Formatting**: The y-axis is inverted (`ax.invert_yaxis()`) to align with the oceanographic convention of displaying depth, where deeper depths are shown lower on the plot. The x-axis is formatted to display the date and time clearly.\n",
    "\n",
    "By implementing these steps, the function `plot_depth_profile` creates a clear and informative visualization of the measured variable over time and depth, even in the presence of duplicates. The resulting plots allow for the examination of temporal changes in oceanographic parameters across different depths."
   ]
  },
  {
   "cell_type": "code",
   "execution_count": null,
   "id": "18894288",
   "metadata": {},
   "outputs": [],
   "source": [
    "import matplotlib.pyplot as plt\n",
    "import matplotlib.dates as mdates\n",
    "import pandas as pd\n",
    "\n",
    "\n",
    "def plot_depth_profile(df, variable, color_label, colormap):\n",
    "    # Work on a copy to not modify the original DataFrame\n",
    "    df_copy = df.copy()\n",
    "    \n",
    "    # Convert the 'time' column to datetime and set as index\n",
    "    df_copy['time'] = pd.to_datetime(df_copy['time'])\n",
    "    df_copy.set_index('time', inplace=True)\n",
    "    \n",
    "    # Drop rows where the variable or 'depth' is NaN\n",
    "    df_cleaned = df_copy.dropna(subset=[variable, 'depth'])\n",
    "    \n",
    "    # Creating the scatter plot\n",
    "    fig, ax = plt.subplots(figsize=(17, 2))\n",
    "    scatter = ax.scatter(df_cleaned.index, df_cleaned['depth'], s=15, c=df_cleaned[variable], cmap=colormap, marker='o', edgecolor='none')\n",
    "    \n",
    "    # Inverting the y-axis for depth\n",
    "    ax.invert_yaxis()\n",
    "    \n",
    "    # Formatting the x-axis to show time\n",
    "    xfmt = mdates.DateFormatter('%H:%Mh\\n%d-%b')\n",
    "    ax.xaxis.set_major_formatter(xfmt)\n",
    "    \n",
    "    # Adding colorbar and labels\n",
    "    cbar = fig.colorbar(scatter, orientation='vertical', extend='both')\n",
    "    cbar.ax.set_ylabel(color_label)\n",
    "    ax.set_ylabel('Depth (m)')\n",
    "    ax.set_xlabel('Time')\n",
    "    \n",
    "    plt.show()\n"
   ]
  },
  {
   "cell_type": "code",
   "execution_count": null,
   "id": "7c753d85",
   "metadata": {},
   "outputs": [],
   "source": [
    "plot_depth_profile(gdf, 'temperature', 'Temperature (°C)', 'plasma')\n",
    "plot_depth_profile(gdf, 'salinity', 'Salinity (1e-3)', 'viridis')\n",
    "plot_depth_profile(gdf, 'conductivity', 'Conductivity (S m$^{-1}$)', 'viridis')\n",
    "plot_depth_profile(gdf, 'density', 'Density (kg m$^{-3}$)', 'PuBu')"
   ]
  },
  {
   "cell_type": "markdown",
   "id": "f03925cb",
   "metadata": {},
   "source": [
    "- Data without time constraints"
   ]
  },
  {
   "cell_type": "code",
   "execution_count": null,
   "id": "7d0900ce",
   "metadata": {
    "scrolled": false
   },
   "outputs": [],
   "source": [
    "variables = [\n",
    "    'depth',\n",
    "    'latitude',\n",
    "    'longitude',\n",
    "    'salinity',\n",
    "    'temperature',\n",
    "    'density',\n",
    "    'conductivity',\n",
    "    'time',\n",
    "]\n",
    "\n",
    "ds_id = 'sg625-20230919T0000'\n",
    "\n",
    "server = 'https://gliders.ioos.us/erddap'\n",
    "\n",
    "\n",
    "gdf = get_erddap_dataset(ds_id, server=server, variables=variables, filetype='dataframe')\n",
    "\n",
    "gdf.columns = variables\n",
    "\n",
    "\n",
    "gdf\n",
    "\n",
    "plot_depth_profile(gdf, 'temperature', 'Temperature (°C)', 'plasma')\n",
    "plot_depth_profile(gdf, 'salinity', 'Salinity (1e-3)', 'viridis')\n",
    "plot_depth_profile(gdf, 'conductivity', 'Conductivity (S m$^{-1}$)', 'viridis')\n",
    "plot_depth_profile(gdf, 'density', 'Density (kg m$^{-3}$)', 'PuBu')"
   ]
  },
  {
   "cell_type": "code",
   "execution_count": null,
   "id": "2f0b784e",
   "metadata": {},
   "outputs": [],
   "source": [
    "import plotly.graph_objs as go\n",
    "\n",
    "optimized_lon_lat = gdf[['longitude', 'latitude']].drop_duplicates()\n",
    "\n",
    "fig = go.Figure(data=go.Scattergeo(\n",
    "    lon = optimized_lon_lat['longitude'],\n",
    "    lat = optimized_lon_lat['latitude'],\n",
    "    mode = 'lines+markers',\n",
    "    line = dict(width = 2, color = 'blue'),\n",
    "    marker = dict(size = 3, color = 'red', opacity = 0.7) \n",
    "))\n",
    "\n",
    "\n",
    "fig.update_layout(\n",
    "    title_text = 'Glider Path with Map Background',\n",
    "    showlegend = False,\n",
    "    geo = dict(\n",
    "        scope = 'world',\n",
    "        projection_type = 'equirectangular',\n",
    "        showland = True,\n",
    "        landcolor = 'rgb(243, 243, 243)',\n",
    "        countrycolor = 'rgb(204, 204, 204)',\n",
    "        resolution = 50,\n",
    "        center = dict(lon = optimized_lon_lat['longitude'].mean(), lat = optimized_lon_lat['latitude'].mean()),\n",
    "        projection_scale = 5 \n",
    "    ),\n",
    ")\n",
    "\n",
    "fig.show()"
   ]
  },
  {
   "cell_type": "markdown",
   "id": "760a7280",
   "metadata": {},
   "source": [
    "**After viewing some plots using data taken directly from the ERDDAP server, let's see if downloading the same data as a CSV file results in the same DataFrame**"
   ]
  },
  {
   "cell_type": "code",
   "execution_count": null,
   "id": "0b2bcc00",
   "metadata": {},
   "outputs": [],
   "source": [
    "variables = [\n",
    "    'depth',\n",
    "    'latitude',\n",
    "    'longitude',\n",
    "    'salinity',\n",
    "    'temperature',\n",
    "    'density',\n",
    "    'conductivity',\n",
    "    'time',\n",
    "]\n",
    "\n",
    "ds_id = 'sg625-20230919T0000'\n",
    "\n",
    "server = 'https://gliders.ioos.us/erddap'\n",
    "\n",
    "min_time = '2023-11-28T00:00:00Z'\n",
    "max_time = '2023-12-05T14:34:20Z'\n",
    "constraints = {\n",
    "    'time>=': min_time,\n",
    "    'time<=': max_time,\n",
    "}\n",
    "\n",
    "\n",
    "gdf = get_erddap_dataset(ds_id, server=server, variables=variables, constraints=constraints, filetype='dataframe')\n",
    "\n",
    "gdf.columns = variables\n",
    "\n",
    "\n",
    "gdf"
   ]
  },
  {
   "cell_type": "code",
   "execution_count": null,
   "id": "60b3c26b",
   "metadata": {},
   "outputs": [],
   "source": [
    "print(gdf.dtypes)"
   ]
  },
  {
   "cell_type": "markdown",
   "id": "cc370b9d",
   "metadata": {},
   "source": [
    "**To test if the data downloaded as a CSV and the data obtained directly from the server are the same, the CSV should be downloaded on the same day the test is run. This is important as it seems that new data can be added to the server, even from the past. After downloading, it should be added to `csv_file_path` (found in the code below).**\n",
    "- To download the data, enter [HERE](https://gliders.ioos.us/erddap/tabledap/sg625-20230919T0000.html), select the time constraints and needed variables, and download the resulting selected data in CSV format."
   ]
  },
  {
   "cell_type": "code",
   "execution_count": null,
   "id": "d1f102d9",
   "metadata": {},
   "outputs": [],
   "source": [
    "import os\n",
    "\n",
    "current_directory = os.getcwd()\n",
    "\n",
    "csv_file_path = os.path.join(current_directory, 'assets', 'glider_data', 'sg625-20230919T0000_f192_3cce_1140.csv')\n",
    "df = pd.read_csv(csv_file_path, header=0, skiprows=[1])\n",
    "df"
   ]
  },
  {
   "cell_type": "code",
   "execution_count": null,
   "id": "e01e7899",
   "metadata": {},
   "outputs": [],
   "source": [
    "print(df.dtypes)"
   ]
  },
  {
   "cell_type": "code",
   "execution_count": null,
   "id": "3f24b537",
   "metadata": {},
   "outputs": [],
   "source": [
    "import pandas as pd\n",
    "\n",
    "df2=df.copy()\n",
    "df1=gdf.copy()\n",
    "\n",
    "# Align the columns of df2 to match the order of df1\n",
    "df2_aligned = df2[df1.columns]\n",
    "\n",
    "# Compare the two DataFrames\n",
    "are_equal = df1.equals(df2_aligned)\n",
    "\n",
    "print(\"Are the DataFrames equal (ignoring column order)?\", are_equal)\n"
   ]
  },
  {
   "cell_type": "markdown",
   "id": "999765a3",
   "metadata": {},
   "source": [
    "**Finally, we conduct some tests using the data taken from the CSV file**"
   ]
  },
  {
   "cell_type": "code",
   "execution_count": null,
   "id": "0320ab05",
   "metadata": {},
   "outputs": [],
   "source": [
    "plot_depth_profile(df, 'temperature', 'Temperature (°C)', 'plasma')\n",
    "plot_depth_profile(df, 'salinity', 'Salinity (1e-3)', 'viridis')\n",
    "plot_depth_profile(df, 'conductivity', 'Conductivity (S m$^{-1}$)', 'viridis')\n",
    "plot_depth_profile(df, 'density', 'Density (kg m$^{-3}$)', 'PuBu')"
   ]
  },
  {
   "cell_type": "code",
   "execution_count": null,
   "id": "1b2ae5a7",
   "metadata": {},
   "outputs": [],
   "source": []
  }
 ],
 "metadata": {
  "kernelspec": {
   "display_name": ".venv",
   "language": "python",
   "name": "python3"
  },
  "language_info": {
   "codemirror_mode": {
    "name": "ipython",
    "version": 3
   },
   "file_extension": ".py",
   "mimetype": "text/x-python",
   "name": "python",
   "nbconvert_exporter": "python",
   "pygments_lexer": "ipython3",
   "version": "3.10.4"
  }
 },
 "nbformat": 4,
 "nbformat_minor": 5
}
